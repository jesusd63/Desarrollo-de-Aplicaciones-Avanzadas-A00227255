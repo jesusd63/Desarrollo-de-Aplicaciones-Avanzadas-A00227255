{
 "cells": [
  {
   "cell_type": "markdown",
   "id": "c274c6fb-7c2e-446e-ab28-80a61c2743ca",
   "metadata": {},
   "source": [
    "Jesús Enrique Díaz Bernal Robinson Bours - A00227255\n",
    "\n",
    "Activitad 4.1\n",
    "\n",
    "En esta actividad tomé datos de las actividades de una persona por varios días. Estos contienen tiempo de ejercicio, lectura, uso de celular, trabajo, descanso y sueño. Con estos datos espero analizar específicamente las horas de sueño cada día."
   ]
  },
  {
   "cell_type": "code",
   "execution_count": null,
   "id": "e4c05618-8d01-4d62-9b51-2029d4049fe2",
   "metadata": {},
   "outputs": [],
   "source": [
    "# Install dependencies as needed:\n",
    "pip install kagglehub[pandas-datasets]\n",
    "pip install pandas\n",
    "pip install matplotlib\n",
    "pip install fitter"
   ]
  },
  {
   "cell_type": "code",
   "execution_count": 53,
   "id": "d48df9fe-5d54-48df-983f-bc893a1614d1",
   "metadata": {},
   "outputs": [],
   "source": [
    "# IMPORTS\n",
    "import kagglehub\n",
    "import pandas as pd\n",
    "import matplotlib.pyplot as plt\n",
    "from fitter import Fitter"
   ]
  },
  {
   "cell_type": "markdown",
   "id": "6e0258b5-c99b-454b-a052-5499c455af7c",
   "metadata": {},
   "source": [
    "DESCARGAR LA ÚLTIMA VERSIÓN DEL DATASET DE KAGGLE"
   ]
  },
  {
   "cell_type": "code",
   "execution_count": 12,
   "id": "3986b0d9-4055-4d2f-8429-66a025c215d8",
   "metadata": {},
   "outputs": [
    {
     "name": "stdout",
     "output_type": "stream",
     "text": [
      "Warning: Looks like you're using an outdated `kagglehub` version, please consider updating (latest version: 0.3.10)\n",
      "Downloading from https://www.kaggle.com/api/v1/datasets/download/govindaramsriram/sleep-time-prediction?dataset_version_number=1&file_name=sleeptime_prediction_dataset.csv...\n"
     ]
    },
    {
     "name": "stderr",
     "output_type": "stream",
     "text": [
      "100%|██████████| 70.2k/70.2k [00:00<00:00, 601kB/s]"
     ]
    },
    {
     "name": "stdout",
     "output_type": "stream",
     "text": [
      "Path to dataset files: C:\\Users\\jusus\\.cache\\kagglehub\\datasets\\govindaramsriram\\sleep-time-prediction\\versions\\1\\sleeptime_prediction_dataset.csv\n",
      "      WorkoutTime  ReadingTime  PhoneTime  WorkHours  CaffeineIntake  \\\n",
      "0            1.12         0.52       3.29       7.89          216.08   \n",
      "1            2.85         0.49       4.22       5.03          206.18   \n",
      "2            2.20         1.81       4.04       9.23           28.73   \n",
      "3            1.80         0.50       1.62       7.68          276.77   \n",
      "4            0.47         0.54       1.60       4.94          170.54   \n",
      "...           ...          ...        ...        ...             ...   \n",
      "1995         1.97         0.88       3.74       5.64          257.30   \n",
      "1996         2.87         0.67       3.01       5.26          269.25   \n",
      "1997         0.21         0.79       4.06       6.73          284.01   \n",
      "1998         0.17         1.06       2.94       9.45          119.25   \n",
      "1999         0.85         0.32       1.60       4.63           65.14   \n",
      "\n",
      "      RelaxationTime  SleepTime  \n",
      "0               0.75       3.45  \n",
      "1               0.67       4.88  \n",
      "2               0.35       3.61  \n",
      "3               1.21       4.94  \n",
      "4               0.95       5.50  \n",
      "...              ...        ...  \n",
      "1995            0.01       4.24  \n",
      "1996            1.75       5.89  \n",
      "1997            0.61       3.00  \n",
      "1998            1.88       3.53  \n",
      "1999            0.63       5.83  \n",
      "\n",
      "[2000 rows x 7 columns]\n"
     ]
    },
    {
     "name": "stderr",
     "output_type": "stream",
     "text": [
      "\n"
     ]
    }
   ],
   "source": [
    "# Save path of download\n",
    "path = kagglehub.dataset_download(\"govindaramsriram/sleep-time-prediction\", path='sleeptime_prediction_dataset.csv')\n",
    "\n",
    "print(\"Path to dataset files:\", path)\n",
    "\n",
    "data = pd.read_csv(path)\n",
    "print(data)"
   ]
  },
  {
   "cell_type": "markdown",
   "id": "f2aaadcd-651b-4154-9f9d-f1e7d974026c",
   "metadata": {},
   "source": [
    "CREAR EL HISTOGRAMA PARA GRAFICAR CON LAS HORAS DE SUEÑO\n",
    "\n",
    "Aquí decidí agrupar en secciones de 1 hora"
   ]
  },
  {
   "cell_type": "code",
   "execution_count": 49,
   "id": "00527d2d-cd3e-416a-a301-ef505efdea28",
   "metadata": {},
   "outputs": [
    {
     "data": {
      "text/plain": [
       "(array([  6.,   5.,   4., 578., 646., 477., 203.,  25.,   6.,   4.,   3.,\n",
       "          4.,   4.,   5.,   1.,   7.,   5.,   8.,   4.,   5.]),\n",
       " array([ 0.,  1.,  2.,  3.,  4.,  5.,  6.,  7.,  8.,  9., 10., 11., 12.,\n",
       "        13., 14., 15., 16., 17., 18., 19., 20.]),\n",
       " <BarContainer object of 20 artists>)"
      ]
     },
     "execution_count": 49,
     "metadata": {},
     "output_type": "execute_result"
    },
    {
     "data": {
      "image/png": "[encoded data removed]",
      "text/plain": [
       "<Figure size 640x480 with 1 Axes>"
      ]
     },
     "metadata": {},
     "output_type": "display_data"
    }
   ],
   "source": [
    "# Histogram\n",
    "plt.title(\"Horas de sueño por dia\")\n",
    "plt.hist(data.SleepTime, [0,1,2,3,4,5,6,7,8,9,10,11,12,13,14,15,16,17,18,19,20])"
   ]
  },
  {
   "cell_type": "markdown",
   "id": "c6c808df-1241-4268-bb89-c4a8a3462fa7",
   "metadata": {},
   "source": [
    "El histograma se parece a un PDF (Probability Density Function) ya que la probabilidad sube mucho en un punto y baja a los lados. Creo que esto quedaría bien para modelar con machine learning usando un modelo de Gaussian. Sin embargo, vamos a comprobar con el resultado de la librería fitter. "
   ]
  },
  {
   "cell_type": "markdown",
   "id": "7b3fc5dc-15e8-4a20-8451-3e17c9e1f2bb",
   "metadata": {},
   "source": [
    "FITTER\n",
    "\n",
    "Usar la librería fitter para ver que distribución recomienda.\n",
    "Esto puede tardar un rato ya que hay muchos datos"
   ]
  },
  {
   "cell_type": "code",
   "execution_count": 63,
   "id": "bc64624a-5c35-4158-84e7-5eb5f93d62b2",
   "metadata": {},
   "outputs": [
    {
     "data": {
      "text/html": [
       "<div>\n",
       "<style scoped>\n",
       "    .dataframe tbody tr th:only-of-type {\n",
       "        vertical-align: middle;\n",
       "    }\n",
       "\n",
       "    .dataframe tbody tr th {\n",
       "        vertical-align: top;\n",
       "    }\n",
       "\n",
       "    .dataframe thead th {\n",
       "        text-align: right;\n",
       "    }\n",
       "</style>\n",
       "<table border=\"1\" class=\"dataframe\">\n",
       "  <thead>\n",
       "    <tr style=\"text-align: right;\">\n",
       "      <th></th>\n",
       "      <th>sumsquare_error</th>\n",
       "      <th>aic</th>\n",
       "      <th>bic</th>\n",
       "      <th>kl_div</th>\n",
       "      <th>ks_statistic</th>\n",
       "      <th>ks_pvalue</th>\n",
       "    </tr>\n",
       "  </thead>\n",
       "  <tbody>\n",
       "    <tr>\n",
       "      <th>fisk</th>\n",
       "      <td>0.136624</td>\n",
       "      <td>1184.179029</td>\n",
       "      <td>1200.981736</td>\n",
       "      <td>inf</td>\n",
       "      <td>0.063793</td>\n",
       "      <td>1.611725e-07</td>\n",
       "    </tr>\n",
       "    <tr>\n",
       "      <th>genlogistic</th>\n",
       "      <td>0.138243</td>\n",
       "      <td>1354.023289</td>\n",
       "      <td>1370.825996</td>\n",
       "      <td>inf</td>\n",
       "      <td>0.061710</td>\n",
       "      <td>4.600361e-07</td>\n",
       "    </tr>\n",
       "    <tr>\n",
       "      <th>burr</th>\n",
       "      <td>0.141078</td>\n",
       "      <td>1165.720533</td>\n",
       "      <td>1188.124143</td>\n",
       "      <td>inf</td>\n",
       "      <td>0.054042</td>\n",
       "      <td>1.618850e-05</td>\n",
       "    </tr>\n",
       "    <tr>\n",
       "      <th>mielke</th>\n",
       "      <td>0.141078</td>\n",
       "      <td>1165.721506</td>\n",
       "      <td>1188.125116</td>\n",
       "      <td>inf</td>\n",
       "      <td>0.054042</td>\n",
       "      <td>1.618656e-05</td>\n",
       "    </tr>\n",
       "    <tr>\n",
       "      <th>alpha</th>\n",
       "      <td>0.145954</td>\n",
       "      <td>1252.508773</td>\n",
       "      <td>1269.311480</td>\n",
       "      <td>inf</td>\n",
       "      <td>0.070763</td>\n",
       "      <td>3.742116e-09</td>\n",
       "    </tr>\n",
       "  </tbody>\n",
       "</table>\n",
       "</div>"
      ],
      "text/plain": [
       "             sumsquare_error          aic          bic  kl_div  ks_statistic  \\\n",
       "fisk                0.136624  1184.179029  1200.981736     inf      0.063793   \n",
       "genlogistic         0.138243  1354.023289  1370.825996     inf      0.061710   \n",
       "burr                0.141078  1165.720533  1188.124143     inf      0.054042   \n",
       "mielke              0.141078  1165.721506  1188.125116     inf      0.054042   \n",
       "alpha               0.145954  1252.508773  1269.311480     inf      0.070763   \n",
       "\n",
       "                ks_pvalue  \n",
       "fisk         1.611725e-07  \n",
       "genlogistic  4.600361e-07  \n",
       "burr         1.618850e-05  \n",
       "mielke       1.618656e-05  \n",
       "alpha        3.742116e-09  "
      ]
     },
     "execution_count": 63,
     "metadata": {},
     "output_type": "execute_result"
    },
    {
     "data": {
      "image/png": "[encoded data removed]",
      "text/plain": [
       "<Figure size 640x480 with 1 Axes>"
      ]
     },
     "metadata": {},
     "output_type": "display_data"
    }
   ],
   "source": [
    "f = Fitter(data.SleepTime)\n",
    "f.fit()\n",
    "\n",
    "f.summary()"
   ]
  },
  {
   "cell_type": "markdown",
   "id": "ec3f7c29-8dd7-4cb7-8e45-bec04379476a",
   "metadata": {},
   "source": [
    "PARAMETROS\n",
    "\n",
    "De los datos arrojados por fitter podemos ver que los mejores modelos de scipy para el dataset que use son fisk y genlogistic.\n",
    "\n"
   ]
  },
  {
   "cell_type": "markdown",
   "id": "70575fda-d415-4a6e-a488-06d331fde012",
   "metadata": {},
   "source": [
    "CONCLUSIÓN\n",
    "\n",
    "Los modelos pueden graficar de forma muy precisa los datos que se entregan y pueden ser utilizados para predecir nuevos datos. Esto puede ser aplicado en con muchos otros tipos de datos para entender  y sacar conclusiones de ellos "
   ]
  }
 ],
 "metadata": {
  "kernelspec": {
   "display_name": "Python [conda env:base] *",
   "language": "python",
   "name": "conda-base-py"
  },
  "language_info": {
   "codemirror_mode": {
    "name": "ipython",
    "version": 3
   },
   "file_extension": ".py",
   "mimetype": "text/x-python",
   "name": "python",
   "nbconvert_exporter": "python",
   "pygments_lexer": "ipython3",
   "version": "3.12.7"
  }
 },
 "nbformat": 4,
 "nbformat_minor": 5
}
